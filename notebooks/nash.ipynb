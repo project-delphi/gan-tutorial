{
 "cells": [
  {
   "cell_type": "markdown",
   "metadata": {},
   "source": [
    "# Nash Equilibrium: General Mathematical Definition\n",
    "\n",
    "Consider a game with **n** players, where:\n",
    "\n",
    "- Each player $i$ has a strategy set $S_i$, which is the set of strategies available to player $i$.\n",
    "- $s_i \\in S_i$ represents a strategy chosen by player $i$.\n",
    "- The **strategy profile** $\\mathbf{s} = (s_1, s_2, \\dots, s_n)$ represents the combination of strategies chosen by all players.\n",
    "- The **payoff function** $u_i(s_1, s_2, \\dots, s_n)$ represents the payoff (or utility) for player $i$ given the strategy profile $\\mathbf{s}$.\n",
    "\n",
    "A **Nash equilibrium** is a strategy profile $\\mathbf{s}^* = (s_1^*, s_2^*, \\dots, s_n^*)$ such that no player can improve their payoff by unilaterally changing their strategy while the strategies of all other players remain unchanged. Formally, the Nash equilibrium satisfies:\n",
    "\n",
    "$$\n",
    "u_i(s_1^*, s_2^*, \\dots, s_i^*, \\dots, s_n^*) \\geq u_i(s_1^*, s_2^*, \\dots, s_i, \\dots, s_n) \\quad \\forall s_i \\in S_i, \\quad \\forall i = 1, 2, \\dots, n\n",
    "$$\n",
    "\n",
    "Where:\n",
    "\n",
    "- $s_i^*$ is the strategy of player $i$ in the equilibrium.\n",
    "- $u_i(\\cdot)$ is the payoff function for player $i$.\n",
    "- $\\mathbf{s}^*$ is a Nash equilibrium if, for every player, their strategy is the best response to the strategies of all other players.\n",
    "\n",
    "For a Nash equilibrium to exist, the game must satisfy certain conditions, such as the existence of a payoff function, a finite number of players, and a finite set of strategies for each player. The existence and uniqueness of Nash equilibria depend on the specific characteristics of the game, such as the structure of the payoff functions and the strategy sets.\n",
    "\n",
    "Mathematical Requirements for Nash Equilibrium:\n",
    "\n",
    "1. **Payoff Functions**: The payoff functions $u_i(\\cdot)$ must be well-defined for all players.\n",
    "\n",
    "2. **Finite Players**: The game must have a finite number of players $n$.\n",
    "\n",
    "3. **Continuous and Convex Strategy Sets**: The strategy sets $S_i$ must be continuous and convex for all players.\n",
    "\n",
    "4. **Quasi-Concave Payoffs**: The payoff functions $u_i(\\cdot)$ must be quasi-concave in the strategies of all players.\n",
    "\n",
    "5. **Non-Empty Strategy Sets**: The strategy sets $S_i$ must be non-empty for all players.\n",
    "\n",
    "6. **Compact Strategy Sets**: The strategy sets $S_i$ must be compact for all players.\n",
    "\n",
    "7. **Continuous Payoff Functions**: The payoff functions $u_i(\\cdot)$ must be continuous in the strategies of all players.\n",
    " \n",
    "\n",
    "\n",
    "\n",
    "\n",
    "### Best Response and Fixed Point Theory\n",
    "\n",
    "The **best response** of player $i$ to the strategy profile $\\mathbf{s}_{-i} = (s_1, \\dots, s_{i-1}, s_{i+1}, \\dots, s_n)$ (i.e., the strategies of all players except $i$) is the strategy $s_i^*$ that maximizes player $i$'s payoff:\n",
    "\n",
    "$$\n",
    "s_i^*(\\mathbf{s}_{-i}) = \\arg \\max_{s_i \\in S_i} u_i(s_1, s_2, \\dots, s_i, \\dots, s_n)\n",
    "$$\n",
    "\n",
    "This leads to a **fixed point** interpretation in game theory. Specifically, the strategy profile $\\mathbf{s}^*$ is a fixed point of the **best response function**.\n",
    "\n",
    "Let the best response function for all players be defined as:\n",
    "\n",
    "$$\n",
    "\\mathbf{BR}(\\mathbf{s}_{-i}) = (s_1^*(\\mathbf{s}_{-1}), s_2^*(\\mathbf{s}_{-2}), \\dots, s_n^*(\\mathbf{s}_{-n}))\n",
    "$$\n",
    "\n",
    "The **Nash equilibrium** can then be viewed as a fixed point of the best response functions:\n",
    "\n",
    "$$\n",
    "\\mathbf{s}^* = \\mathbf{BR}(\\mathbf{s}^*)\n",
    "$$\n",
    "\n",
    "In other words, the Nash equilibrium is a point where no player wants to deviate because their strategy is the best response to the strategies of all other players.\n",
    "\n",
    "This concept is closely linked to **Fixed Point Theory**, particularly **Brouwer’s Fixed Point Theorem**, which states that any continuous function mapping a compact convex set to itself has at least one fixed point. In the context of game theory, the best response function is continuous, and the set of strategy profiles $\\mathbf{s}$ is typically a compact convex set, making the existence of a Nash equilibrium guaranteed by Brouwer’s theorem.\n",
    "\n",
    "## Saddle Points, 0-Sum and Two Player Games\n",
    "\n",
    "There is no need for Nash equibrium that the game should be zero sum or have a saddle point or that there are only 2 players. The existence of a Nash equilibrium is a general concept that applies to all types of games, including non-zero-sum games, games without saddle points or more than 2 players.\n",
    "\n",
    "### Conclusion\n",
    "\n",
    "The Nash equilibrium represents a situation where all players are making the best possible decisions given the strategies of the others. The existence of Nash equilibria is closely linked to fixed point theory, where the best response functions define a system whose fixed points correspond to equilibria in the game."
   ]
  },
  {
   "cell_type": "markdown",
   "metadata": {},
   "source": [
    "### Examples"
   ]
  },
  {
   "cell_type": "markdown",
   "metadata": {},
   "source": [
    "Two player game with no saddle point: Prisoner's Dilemma, Battle"
   ]
  },
  {
   "cell_type": "code",
   "execution_count": 2,
   "metadata": {},
   "outputs": [
    {
     "name": "stdout",
     "output_type": "stream",
     "text": [
      "Intel MKL WARNING: Support of Intel(R) Streaming SIMD Extensions 4.2 (Intel(R) SSE4.2) enabled only processors has been deprecated. Intel oneAPI Math Kernel Library 2025.0 will require Intel(R) Advanced Vector Extensions (Intel(R) AVX) instructions.\n",
      "Intel MKL WARNING: Support of Intel(R) Streaming SIMD Extensions 4.2 (Intel(R) SSE4.2) enabled only processors has been deprecated. Intel oneAPI Math Kernel Library 2025.0 will require Intel(R) Advanced Vector Extensions (Intel(R) AVX) instructions.\n",
      "Nash Equilibrium: Player 1 chooses D, Player 2 chooses D\n",
      "Payoffs: Player 1 = 1, Player 2 = 1\n"
     ]
    }
   ],
   "source": [
    "import numpy as np\n",
    "\n",
    "# Define the payoff matrix for the Prisoner's Dilemma\n",
    "# Rows correspond to Player 1's strategies (C, D)\n",
    "# Columns correspond to Player 2's strategies (C, D)\n",
    "payoff_matrix_player_1 = np.array([[3, 0],  # Player 1's payoff when Player 2 chooses C, D\n",
    "                                   [5, 1]])  # Player 1's payoff when Player 2 chooses C, D\n",
    "\n",
    "payoff_matrix_player_2 = np.array([[3, 5],  # Player 2's payoff when Player 1 chooses C, D\n",
    "                                   [0, 1]])  # Player 2's payoff when Player 1 chooses C, D\n",
    "\n",
    "# Define the strategy space\n",
    "strategies = ['C', 'D']\n",
    "\n",
    "# Best response function for Player 1\n",
    "def best_response_player_1(player_2_strategy):\n",
    "    if player_2_strategy == 'C':\n",
    "        return 'D'  # Best response to C is D (payoff 5 > 3)\n",
    "    else:\n",
    "        return 'D'  # Best response to D is D (payoff 1 > 0)\n",
    "\n",
    "# Best response function for Player 2\n",
    "def best_response_player_2(player_1_strategy):\n",
    "    if player_1_strategy == 'C':\n",
    "        return 'D'  # Best response to C is D (payoff 5 > 3)\n",
    "    else:\n",
    "        return 'D'  # Best response to D is D (payoff 1 > 0)\n",
    "\n",
    "# Check for Nash Equilibrium by checking if both players' strategies are best responses\n",
    "def check_nash_equilibrium():\n",
    "    for strategy_1 in strategies:\n",
    "        for strategy_2 in strategies:\n",
    "            best_response_1 = best_response_player_1(strategy_2)\n",
    "            best_response_2 = best_response_player_2(strategy_1)\n",
    "            if best_response_1 == strategy_1 and best_response_2 == strategy_2:\n",
    "                print(f\"Nash Equilibrium: Player 1 chooses {strategy_1}, Player 2 chooses {strategy_2}\")\n",
    "                print(f\"Payoffs: Player 1 = {payoff_matrix_player_1[strategies.index(strategy_1), strategies.index(strategy_2)]}, \"\n",
    "                      f\"Player 2 = {payoff_matrix_player_2[strategies.index(strategy_1), strategies.index(strategy_2)]}\")\n",
    "                return\n",
    "\n",
    "# Find Nash Equilibrium\n",
    "check_nash_equilibrium()"
   ]
  },
  {
   "cell_type": "markdown",
   "metadata": {},
   "source": [
    "3 player game with mixed strategies"
   ]
  },
  {
   "cell_type": "code",
   "execution_count": 6,
   "metadata": {},
   "outputs": [
    {
     "name": "stdout",
     "output_type": "stream",
     "text": [
      "Nash Equilibrium: Player 1 chooses 0.50, Player 2 chooses 0.70, Player 3 chooses 0.80\n"
     ]
    }
   ],
   "source": [
    "import numpy as np\n",
    "from scipy.optimize import minimize\n",
    "\n",
    "# Define the payoff functions for the 3 players\n",
    "def payoff_player_1(s1, s2, s3):\n",
    "    return -((s1 - 0.5)**2 + (s2 - 0.5)**2 + (s3 - 0.5)**2)\n",
    "\n",
    "def payoff_player_2(s1, s2, s3):\n",
    "    return -((s1 - 0.3)**2 + (s2 - 0.7)**2 + (s3 - 0.5)**2)\n",
    "\n",
    "def payoff_player_3(s1, s2, s3):\n",
    "    return -((s1 - 0.6)**2 + (s2 - 0.4)**2 + (s3 - 0.8)**2)\n",
    "\n",
    "# Best response functions\n",
    "def best_response_player_1(s2, s3):\n",
    "    result = minimize(lambda s1: -payoff_player_1(s1, s2, s3), 0.5, bounds=[(0, 1)])\n",
    "    return result.x[0]\n",
    "\n",
    "def best_response_player_2(s1, s3):\n",
    "    result = minimize(lambda s2: -payoff_player_2(s1, s2, s3), 0.5, bounds=[(0, 1)])\n",
    "    return result.x[0]\n",
    "\n",
    "def best_response_player_3(s1, s2):\n",
    "    # Fix: pass all required arguments to payoff_player_3\n",
    "    result = minimize(lambda s3: -payoff_player_3(s1, s2, s3), 0.5, bounds=[(0, 1)])\n",
    "    return result.x[0]\n",
    "\n",
    "# Find Nash Equilibrium\n",
    "def find_nash_equilibrium():\n",
    "    s1, s2, s3 = 0.5, 0.5, 0.5  # Initial strategies\n",
    "    for _ in range(100):  # Iterate to find the equilibrium\n",
    "        s1 = best_response_player_1(s2, s3)\n",
    "        s2 = best_response_player_2(s1, s3)\n",
    "        s3 = best_response_player_3(s1, s2)\n",
    "    return s1, s2, s3\n",
    "\n",
    "# Get Nash Equilibrium\n",
    "nash_equilibrium = find_nash_equilibrium()\n",
    "print(f\"Nash Equilibrium: Player 1 chooses {nash_equilibrium[0]:.2f}, Player 2 chooses {nash_equilibrium[1]:.2f}, Player 3 chooses {nash_equilibrium[2]:.2f}\")"
   ]
  },
  {
   "cell_type": "markdown",
   "metadata": {},
   "source": [
    "2 player game with rock-paper-scissors"
   ]
  },
  {
   "cell_type": "code",
   "execution_count": 11,
   "metadata": {},
   "outputs": [
    {
     "name": "stdout",
     "output_type": "stream",
     "text": [
      "Approximate Nash Equilibrium (Player 1): [0.22922669 0.42139563 0.34937767]\n",
      "Approximate Nash Equilibrium (Player 2): [0.43133046 0.28299592 0.28567362]\n",
      "Theoretical Nash Equilibrium: [0.33333333 0.33333333 0.33333333]\n"
     ]
    }
   ],
   "source": [
    "import numpy as np\n",
    "\n",
    "# Define the payoff matrices for both players\n",
    "payoff_matrix_player_1 = np.array([[0, -1, 1],  # Payoff for Player 1: Rock, Paper, Scissors\n",
    "                                   [1, 0, -1],\n",
    "                                   [-1, 1, 0]])\n",
    "\n",
    "payoff_matrix_player_2 = -payoff_matrix_player_1  # Zero-sum game, Player 2's payoff is the negative of Player 1\n",
    "\n",
    "# Best response function: computes the optimal strategy given the opponent's strategy\n",
    "def best_response(player_payoff_matrix, opponent_strategy):\n",
    "    payoffs = player_payoff_matrix @ opponent_strategy\n",
    "    best_response_strategy = np.zeros_like(payoffs)\n",
    "    best_response_strategy[np.argmax(payoffs)] = 1\n",
    "    return best_response_strategy\n",
    "\n",
    "# Fixed-point iteration to approximate Nash equilibrium\n",
    "def find_nash_equilibrium_rps():\n",
    "    # Initialize mixed strategies for both players (uniform distribution)\n",
    "    strategy_player_1 = np.array([1, 0, 0])\n",
    "    strategy_player_2 = np.array([0, 1, 0])\n",
    "    \n",
    "    learning_rate = 0.1  # Gradual updates for convergence\n",
    "    \n",
    "    for _ in range(1000):  # Iterate to approximate equilibrium\n",
    "        # Compute best responses for the current strategies\n",
    "        response_1 = best_response(payoff_matrix_player_1, strategy_player_2)\n",
    "        response_2 = best_response(payoff_matrix_player_2.T, strategy_player_1)\n",
    "        \n",
    "        # Gradually adjust strategies toward the best responses\n",
    "        strategy_player_1 = (1 - learning_rate) * strategy_player_1 + learning_rate * response_1\n",
    "        strategy_player_2 = (1 - learning_rate) * strategy_player_2 + learning_rate * response_2\n",
    "        \n",
    "        # Re-normalize to stay in the simplex\n",
    "        strategy_player_1 /= strategy_player_1.sum()\n",
    "        strategy_player_2 /= strategy_player_2.sum()\n",
    "    \n",
    "    return strategy_player_1, strategy_player_2\n",
    "\n",
    "# Calculate Nash equilibrium\n",
    "nash_equilibrium_1, nash_equilibrium_2 = find_nash_equilibrium_rps()\n",
    "\n",
    "# Theoretical Nash equilibrium (uniform distribution)\n",
    "theoretical_equilibrium = np.array([1/3, 1/3, 1/3])\n",
    "\n",
    "# Output results\n",
    "print(f\"Approximate Nash Equilibrium (Player 1): {nash_equilibrium_1}\")\n",
    "print(f\"Approximate Nash Equilibrium (Player 2): {nash_equilibrium_2}\")\n",
    "print(f\"Theoretical Nash Equilibrium: {theoretical_equilibrium}\")"
   ]
  },
  {
   "cell_type": "code",
   "execution_count": null,
   "metadata": {},
   "outputs": [],
   "source": []
  }
 ],
 "metadata": {
  "kernelspec": {
   "display_name": ".conda",
   "language": "python",
   "name": "python3"
  },
  "language_info": {
   "codemirror_mode": {
    "name": "ipython",
    "version": 3
   },
   "file_extension": ".py",
   "mimetype": "text/x-python",
   "name": "python",
   "nbconvert_exporter": "python",
   "pygments_lexer": "ipython3",
   "version": "3.10.15"
  }
 },
 "nbformat": 4,
 "nbformat_minor": 2
}
