{
 "cells": [
  {
   "cell_type": "markdown",
   "metadata": {},
   "source": [
    "# Mutual Information\n",
    "\n",
    "Mutual information is a measure of the amount of information that one random variable can provide about another random variable. It is a measure of the amount of information that can be obtained about one random variable by observing another random variable. The concept of mutual information is deeply related to the concept of entropy, which is a measure of uncertainty or disorder in a random variable.\n",
    "\n",
    "The mutual information between two random variables X and Y is defined as:\n",
    "\n",
    "$$I(X;Y) = H(X) - H(X|Y) = H(Y) - H(Y|X)$$\n",
    "\n",
    "where $H(X)$ and $H(Y)$ are the entropies of X and Y, respectively, and $H(X|Y)$ and $H(Y|X)$ are the conditional entropies of X given Y and Y given X, respectively.\n",
    "\n",
    "The mutual information between two random variables X and Y is zero if and only if X and Y are independent random variables.\n",
    "\n",
    "# Properties of Mutual Information\n",
    "\n",
    "1. $I(X;Y) = I(Y;X)$\n",
    "2. $I(X;Y) \\geq 0$\n",
    "3. $I(X;Y) = 0$ if and only if X and Y are independent random variables\n",
    "\n",
    "# Copulas and Mutual Information\n",
    "\n",
    "A copula is a multivariate distribution function whose marginal distributions are uniform. Copulas are used to describe the dependence structure between random variables. The mutual information between two random variables X and Y can be expressed in terms of the copula between X and Y as:\n",
    "\n",
    "$$I(X;Y) = -\\int \\int c(u,v) \\log c(u,v) du dv$$\n",
    "\n",
    "where c(u,v) is the copula between X and Y.\n",
    "\n",
    "# Applications of Mutual Information\n",
    "\n",
    "1. Feature selection: Mutual information can be used to select the most relevant features in a dataset.\n",
    "2. Clustering: Mutual information can be used to measure the similarity between clusters in a clustering algorithm.\n",
    "3. Information retrieval: Mutual information can be used to measure the relevance of documents in information retrieval systems.\n",
    "4. Image registration: Mutual information can be used to measure the similarity between images in image registration algorithms.\n"
   ]
  },
  {
   "cell_type": "code",
   "execution_count": 1,
   "metadata": {},
   "outputs": [
    {
     "name": "stdout",
     "output_type": "stream",
     "text": [
      "Intel MKL WARNING: Support of Intel(R) Streaming SIMD Extensions 4.2 (Intel(R) SSE4.2) enabled only processors has been deprecated. Intel oneAPI Math Kernel Library 2025.0 will require Intel(R) Advanced Vector Extensions (Intel(R) AVX) instructions.\n",
      "Intel MKL WARNING: Support of Intel(R) Streaming SIMD Extensions 4.2 (Intel(R) SSE4.2) enabled only processors has been deprecated. Intel oneAPI Math Kernel Library 2025.0 will require Intel(R) Advanced Vector Extensions (Intel(R) AVX) instructions.\n",
      "Mutual Information between X and Y: 0.0\n",
      "Mutual Information between X_cont and Y_cont: 0.37117621832926406\n"
     ]
    }
   ],
   "source": [
    "from sklearn.metrics import mutual_info_score\n",
    "import numpy as np\n",
    "\n",
    "# Example 1: Mutual information between two discrete variables\n",
    "X = [0, 0, 1, 1, 2, 2, 3, 3]\n",
    "Y = [0, 1, 0, 1, 0, 1, 0, 1]\n",
    "mi = mutual_info_score(X, Y)\n",
    "print(f\"Mutual Information between X and Y: {mi}\")\n",
    "\n",
    "# Example 2: Mutual information between two continuous variables\n",
    "# Discretize the continuous variables into bins\n",
    "X_cont = np.random.rand(100)\n",
    "Y_cont = np.random.rand(100)\n",
    "X_disc = np.digitize(X_cont, bins=np.linspace(0, 1, 10))\n",
    "Y_disc = np.digitize(Y_cont, bins=np.linspace(0, 1, 10))\n",
    "mi_cont = mutual_info_score(X_disc, Y_disc)\n",
    "print(f\"Mutual Information between X_cont and Y_cont: {mi_cont}\")"
   ]
  },
  {
   "cell_type": "code",
   "execution_count": null,
   "metadata": {},
   "outputs": [],
   "source": []
  }
 ],
 "metadata": {
  "kernelspec": {
   "display_name": ".conda",
   "language": "python",
   "name": "python3"
  },
  "language_info": {
   "codemirror_mode": {
    "name": "ipython",
    "version": 3
   },
   "file_extension": ".py",
   "mimetype": "text/x-python",
   "name": "python",
   "nbconvert_exporter": "python",
   "pygments_lexer": "ipython3",
   "version": "3.10.15"
  }
 },
 "nbformat": 4,
 "nbformat_minor": 2
}
